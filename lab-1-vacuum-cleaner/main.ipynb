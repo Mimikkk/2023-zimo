{
 "cells": [
  {
   "cell_type": "markdown",
   "metadata": {},
   "source": [
    "## Zaawansowane Metody Inteligencji Obliczeniowej\n",
    "# Zadanie domowe 1\n",
    "### Prowadzący: Michał Kempka, Marek Wydmuch\n",
    "### Autor: twoje imię i nazwisko + numer indeksu"
   ]
  },
  {
   "cell_type": "markdown",
   "metadata": {},
   "source": [
    "## Wprowadzenie\n",
    "\n",
    "Całe zadanie jest oparte o różne wersje środowiska `VacuumEnvironemnt`, które rozważaliśmy na zajęciach.\n",
    "Środowisko zaimplementowane jest w bibliotece aima3 (https://github.com/ArtificialIntelligenceToolkit/aima3),\n",
    "która zawiera kod do książki \"Artificial Intelligence: A Modern Approach\".\n",
    "\n",
    "#### Uwaga: Możesz dowolnie modyfikować elementy tego notebooka (wstawiać komórki i zmieniać kod) o ile nie napisano gdzieś inaczej."
   ]
  },
  {
   "cell_type": "code",
   "execution_count": null,
   "metadata": {},
   "outputs": [],
   "source": [
    "# Zainstaluj bibliotekę OpenAI Gym\n",
    "!pip install aima3"
   ]
  },
  {
   "cell_type": "code",
   "execution_count": null,
   "metadata": {},
   "outputs": [],
   "source": [
    "# Zaimportuj wszystkie jego elementy\n",
    "from aima3.agents import *"
   ]
  },
  {
   "cell_type": "markdown",
   "metadata": {},
   "source": [
    "Wszystkie używane przez nas elementy biblioteki są zaimplementowane w pliku: https://github.com/ArtificialIntelligenceToolkit/aima3/blob/master/aima3/agents.py"
   ]
  },
  {
   "cell_type": "markdown",
   "metadata": {},
   "source": [
    "# Zad. 1 - Cechy środowiska odkurzacza (1 pkt.)\n",
    "\n",
    "Wypisz cechy poniżej używanego środowiska zgodnie z klasyfikacją z wykładu 1.\n",
    "Dla ciągłości/dyskretności określ cechy osobno w stosunku do czasu, akcji i przestrzeni stanów.\n",
    "W razie wątpliwości uzasadnij swój wybór.\n",
    "\n",
    "Odpowiedź: Miejsce na Twoje odpowiedzi\n",
    "\n",
    "Tip: Możesz sprawdź implementacje środowiska w pliku podanym powyżej, lub wywnioskować cechy na wykonując poniższe fragmenty kodu."
   ]
  },
  {
   "cell_type": "code",
   "execution_count": null,
   "metadata": {},
   "outputs": [],
   "source": [
    "# Stwórz nowe środowisko świata odkurzacza\n",
    "env = TrivialVacuumEnvironment()"
   ]
  },
  {
   "cell_type": "code",
   "execution_count": null,
   "metadata": {},
   "outputs": [],
   "source": [
    "# Sprawdź aktualny status środowiska\n",
    "env.status"
   ]
  },
  {
   "cell_type": "code",
   "execution_count": null,
   "metadata": {},
   "outputs": [],
   "source": [
    "# Utwórz agenta refleksyjnego\n",
    "agent = ReflexVacuumAgent()\n",
    "agent.is_alive()"
   ]
  },
  {
   "cell_type": "code",
   "execution_count": null,
   "metadata": {},
   "outputs": [],
   "source": [
    "# Dodaj agenta do środowiska. Owijamy go w TraceAgent'a, żeby zobaczyć co robi.\n",
    "env.add_thing(TraceAgent(agent))"
   ]
  },
  {
   "cell_type": "code",
   "execution_count": null,
   "metadata": {},
   "outputs": [],
   "source": [
    "# Zobacz gdzie jest agent\n",
    "for loc in [loc_A, loc_B]:\n",
    "    print('loc {0}: {1}'.format(loc, env.list_things_at(loc)))\n",
    "# Lub:\n",
    "agent.location"
   ]
  },
  {
   "cell_type": "code",
   "execution_count": null,
   "metadata": {},
   "outputs": [],
   "source": [
    "# Wykonaj 10 kroków\n",
    "env.run(10)"
   ]
  },
  {
   "cell_type": "code",
   "execution_count": null,
   "metadata": {},
   "outputs": [],
   "source": [
    "# Sprawdź jak środowisko oceniło jakość agenta.\n",
    "agent.performance"
   ]
  },
  {
   "cell_type": "code",
   "execution_count": null,
   "metadata": {},
   "outputs": [],
   "source": [
    "# Moglibyśmy ocenić oczekiwaną jakość agenta dokładniej..., ale tylko ją oszacujemy (1000 powtórzeń).\n",
    "# Zakładamy, że symulacja trwa 50 kroków.\n",
    "\n",
    "compare_agents(TrivialVacuumEnvironment, [ReflexVacuumAgent, ModelBasedVacuumAgent], 1000, 50)"
   ]
  },
  {
   "cell_type": "markdown",
   "metadata": {},
   "source": [
    "# Zad. 2 - Cechy zmodyfikowanego środowisko odkurzacza (1 pkt).\n",
    "\n",
    "Wypisz cechy poniżej używanego środowiska zgodnie z klasyfikacją z wykładu 1.\n",
    "Dla ciągłości/dyskretności określ cechy osobno w stosunku do czasu, akcji i przestrzeni stanów.\n",
    "W razie wątpliwości uzasadnij swój wybór.\n",
    "\n",
    "Odpowiedź: Miejsce na Twoje odpowiedzi"
   ]
  },
  {
   "cell_type": "code",
   "execution_count": null,
   "metadata": {},
   "outputs": [],
   "source": [
    "# Rozszerzmy implementacje TrivialVacuumEnvironment\n",
    "\n",
    "import random\n",
    "\n",
    "class TrivialVacuumEnvironmentWithCats(TrivialVacuumEnvironment):\n",
    "    def __init__(self, random_dirt_prob=0.05, seed=None):\n",
    "        super(TrivialVacuumEnvironmentWithCats, self).__init__()\n",
    "        self.random = random.Random(seed)\n",
    "        self.random_dirt_prob = random_dirt_prob\n",
    "\n",
    "    def execute_action(self, agent, action):\n",
    "        \"\"\"Change agent's location and/or location's status; track performance; add dirt;\n",
    "        Score 10 for each dirt cleaned; -1 for each move.\"\"\"\n",
    "        # Same as in case of TrivialVacuumEnvironment\n",
    "        if action == 'Right':\n",
    "            agent.location = loc_B\n",
    "            agent.performance -= 1\n",
    "        elif action == 'Left':\n",
    "            agent.location = loc_A\n",
    "            agent.performance -= 1\n",
    "        elif action == 'Suck':\n",
    "            if self.status[agent.location] == 'Dirty':\n",
    "                agent.performance += 10\n",
    "            self.status[agent.location] = 'Clean'\n",
    "\n",
    "        # Cats can make either location dirty\n",
    "        for loc in [loc_A, loc_B]:\n",
    "            if self.random.random() < self.random_dirt_prob:\n",
    "                self.status[loc] = 'Dirty'"
   ]
  },
  {
   "cell_type": "code",
   "execution_count": null,
   "metadata": {},
   "outputs": [],
   "source": [
    "# Przetestujmy domyślnych agentów w nowym środowisku\n",
    "\n",
    "def env_factory():\n",
    "    return TrivialVacuumEnvironmentWithCats(random_dirt_prob=0.05)\n",
    "\n",
    "compare_agents(env_factory, [ReflexVacuumAgent, ModelBasedVacuumAgent], 1000, 50)"
   ]
  },
  {
   "cell_type": "markdown",
   "metadata": {},
   "source": [
    "# Zad. 3 - Własny program agenta (8 pkt.)\n",
    "\n",
    "Napisz program agenta, który będzie (średnio) dużo lepszy dla tego środowiska (50 kroków, z random_dirt_prob=0.05) niż ModelBaseVacuumAgent oraz ReflexVacuumAgent. Opisz działanie swojego programu, na podstawie jaki przesłanek on działa, jakbyś go zmodyfikował gdyby prawdopodobieństwo zabrudzenia pokoju (random_dirt_prob) się zmieniło?\n",
    "\n",
    "Punktacja za wynik (sprawdzarka zrobi 50000 powtórzeń):\n",
    "* \\> 41: 1 pkt.\n",
    "* \\> 42: 2 pkt.\n",
    "* \\> 43: 3 pkt.\n",
    "* \\> 44: 4 pkt.\n",
    "* \\> 45: 5 pkt.\n",
    "* \\> 46: 6 pkt.\n",
    "\n",
    "\\+ 2 pkt. za opis.\n",
    "\n",
    "#### Uwaga: nie zmieniaj nazwy klasy `MyVacuumAgent`. Nie dopisuj do komórki z klasą innego kodu. Możesz zdefiniować funkcje pomocnicze w tej samej komórce (sprawdzarka wyciągnie ze zgłoszonego notebooka wyłącznie komórkę z klasę o nazwie `MyVacuumAgent` do sprawdzenia)."
   ]
  },
  {
   "cell_type": "code",
   "execution_count": null,
   "metadata": {},
   "outputs": [],
   "source": [
    "# Klasa MyVacuumAgent wypełniona przykładowym kodem agenta z modelem\n",
    "\n",
    "def MyVacuumAgent():\n",
    "    def program(percept):\n",
    "        # Zwróć jedną z dostępnych akcji: {'Suck', 'Right', 'Left', 'NoOP'}\n",
    "        location, status = percept\n",
    "        if status == 'Dirty':\n",
    "            return 'Suck'\n",
    "        elif location == loc_A:\n",
    "            return 'Right'\n",
    "        elif location == loc_B:\n",
    "            return 'Left'\n",
    "        \n",
    "    return Agent(program)"
   ]
  },
  {
   "cell_type": "code",
   "execution_count": null,
   "metadata": {},
   "outputs": [],
   "source": [
    "# Przetestuj swojego agenta\n",
    "def env_factory():\n",
    "    return TrivialVacuumEnvironmentWithCats(random_dirt_prob=0.05)\n",
    "\n",
    "compare_agents(env_factory, [MyVacuumAgent], 1000, 50)"
   ]
  }
 ],
 "metadata": {
  "kernelspec": {
   "display_name": "Python 3",
   "language": "python",
   "name": "python3"
  },
  "language_info": {
   "codemirror_mode": {
    "name": "ipython",
    "version": 3
   },
   "file_extension": ".py",
   "mimetype": "text/x-python",
   "name": "python",
   "nbconvert_exporter": "python",
   "pygments_lexer": "ipython3",
   "version": "3.8.5"
  }
 },
 "nbformat": 4,
 "nbformat_minor": 4
}

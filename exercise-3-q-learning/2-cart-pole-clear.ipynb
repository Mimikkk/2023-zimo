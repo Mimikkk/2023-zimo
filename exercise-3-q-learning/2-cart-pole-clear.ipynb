{
 "cells": [
  {
   "cell_type": "markdown",
   "metadata": {},
   "source": [
    "# Zaawansowane Metody Inteligencji Obliczeniowej\n",
    "## Lab 8: Q-Learning z aproksymacją\n",
    "### Prowadzący: Michał Kempka, Marek Wydmuch"
   ]
  },
  {
   "attachments": {},
   "cell_type": "markdown",
   "metadata": {},
   "source": [
    "## Wprowadzenie\n",
    "\n",
    "Celem tego ćwiczenia jest implementacja algorytmu Q-Learning z aproksymacją dla środowiska `CartPole` ze znanej Wam już bibliteki ~~OpenAI Gym~~ Gymnasium (https://gymnasium.farama.org/), która jest kontynuacją biblioteki Gym.\n",
    "\n",
    "\n",
    "Zapoznaj się z opisem środowiska (https://gymnasium.farama.org/environments/classic_control/cart_pole/) następnie zapoznaj się z kodem poniżej. Pokazuje on przykład użycia omawianego środowiska."
   ]
  },
  {
   "cell_type": "code",
   "execution_count": null,
   "metadata": {},
   "outputs": [],
   "source": [
    "# Zainstaluj bibliotekę Gymnasium i PyTorch\n",
    "!pip install gymnasium==0.28 torch matplotlib numpy"
   ]
  },
  {
   "cell_type": "markdown",
   "metadata": {},
   "source": [
    "### Środowisko `CartPole`\n",
    "\n",
    "Poniższy kod demonstruje działanie środowiska `CartPole`"
   ]
  },
  {
   "cell_type": "code",
   "execution_count": null,
   "metadata": {},
   "outputs": [],
   "source": [
    "# Zobacz jak działa środowisko na przykładzie 100 kroków\n",
    "import gymnasium as gym\n",
    "from time import sleep\n",
    "\n",
    "# Inicjalizacja środowiska\n",
    "env = gym.make(\"CartPole-v1\", render_mode=\"human\")\n",
    "observation, _ = env.reset()\n",
    "\n",
    "for _ in range(100):\n",
    "    # Pokaż obraz z środowiska\n",
    "    env.render()\n",
    "\n",
    "    # Wybierz losową akcję z przestrzeni akcji\n",
    "    action = env.action_space.sample()\n",
    "\n",
    "    # Wykonaj akcję i otrzymaj informację o kolejnym stanie, nagrodzie \n",
    "    # i czy środowisko zostało zakończone.\n",
    "    # Zobacz https://gymnasium.farama.org/api/env/#gymnasium.Env.step \n",
    "    # by sprawdzić opis wszystkich zwracanych wartości.\n",
    "    observation, reward, term, trunc, _ = env.step(action)\n",
    "    done = term or trunc\n",
    "    \n",
    "    if done:\n",
    "        observation, _ = env.reset()\n",
    "env.close()"
   ]
  },
  {
   "cell_type": "code",
   "execution_count": null,
   "metadata": {},
   "outputs": [],
   "source": [
    "# Zobacz jakim typem są obserwacje (reprezentacja stanu) oraz jaka jest przestrzeń akcji:\n",
    "print(\"Przestrzeń stanów:\", env.observation_space)\n",
    "print(\"Ostatnia obserwacja:\", observation)\n",
    "print(\"Przestrzeń akcji:\", env.action_space)"
   ]
  },
  {
   "cell_type": "markdown",
   "metadata": {},
   "source": [
    "### Regresja w PyTorch\n",
    "\n",
    "Poniższy kod demosntruje jak stworzyć prosty model za pomocą bilibteki PyTorch dla problemu regresji."
   ]
  },
  {
   "cell_type": "code",
   "execution_count": null,
   "metadata": {},
   "outputs": [],
   "source": [
    "import torch\n",
    "import torch.nn.functional as F\n",
    "\n",
    "class MyModel(torch.nn.Module):\n",
    "    def __init__(self, n_feature, n_hidden, n_output):\n",
    "        super(MyModel, self).__init__()\n",
    "        self.hidden = torch.nn.Linear(n_feature, n_hidden)  # Warstwa wejściowa\n",
    "        self.predict = torch.nn.Linear(n_hidden, n_output)  # Warstwa wyjściowa\n",
    "\n",
    "    # W momencie wykonania tych operacji zostanie stworzony graf obliczeniowy, który zostanie wykorzystany do propagacji wstecznej\n",
    "    def forward(self, x):\n",
    "        x = F.relu(self.hidden(x))  # Wejście + funkcja aktywacji\n",
    "        x = self.predict(x)         # Liniowe wyjście\n",
    "        return x\n",
    "\n",
    "h = MyModel(n_feature=1, n_hidden=50, n_output=1)\n",
    "\n",
    "# Poza samym modelem, w celu jego uczenia potrzebujemy optymalizatora (w tym wypadku algorytmu SGD)\n",
    "optimizer = torch.optim.SGD(h.parameters(), lr=0.2)\n",
    "\n",
    "# Oraz naszej funkcji straty, w tym wypadku uyjmy błędu kwadratowego\n",
    "loss_func = torch.nn.MSELoss()"
   ]
  },
  {
   "cell_type": "code",
   "execution_count": null,
   "metadata": {},
   "outputs": [],
   "source": [
    "# Stwórzmy przykładowe, jednowmiarowe dane i wyświetlmy je\n",
    "import matplotlib.pyplot as plt\n",
    "%matplotlib inline\n",
    "\n",
    "torch.manual_seed(1)\n",
    "x = torch.unsqueeze(torch.linspace(-1, 1, 100), dim=1)\n",
    "y = x.pow(2) + 0.2 * torch.rand(x.size())\n",
    "\n",
    "plt.figure(figsize=(10,6))\n",
    "plt.scatter(x.data.numpy(), y.data.numpy(), color=\"blue\")\n",
    "plt.show()"
   ]
  },
  {
   "cell_type": "code",
   "execution_count": null,
   "metadata": {},
   "outputs": [],
   "source": [
    "# Wytrenujmy nasz model wykonując 1000 iteracji po całym zbiorze danych\n",
    "for t in range(1000):\n",
    "    # Dokonaj predykcji na podstawie x\n",
    "    prediction = h(x) \n",
    "    \n",
    "    # Wyliczmy błąd\n",
    "    loss = loss_func(prediction, y)\n",
    "    \n",
    "    # Wyzerujmy gradienty\n",
    "    optimizer.zero_grad()\n",
    "    \n",
    "    # Wylicz gradienty dla każdej operacji z użyciem propagacji wstecznej\n",
    "    loss.backward()\n",
    "\n",
    "    # Zaktualizuj wagi\n",
    "    optimizer.step()"
   ]
  },
  {
   "cell_type": "code",
   "execution_count": null,
   "metadata": {
    "collapsed": false,
    "jupyter": {
     "outputs_hidden": false
    },
    "pycharm": {
     "name": "#%%\n"
    }
   },
   "outputs": [],
   "source": [
    "# Wykonajmy ostateczną predykcję, nie potrzebujemy już gradientów ani grafu obliczeniowego\n",
    "with torch.no_grad():\n",
    "    prediction = h(x)"
   ]
  },
  {
   "cell_type": "code",
   "execution_count": null,
   "metadata": {},
   "outputs": [],
   "source": [
    "# Wyświetlmy wyniki\n",
    "plt.figure(figsize=(10,6))\n",
    "plt.scatter(x.data.numpy(), y.data.numpy(), color=\"blue\")\n",
    "plt.plot(x.data.numpy(), prediction.data.numpy(), color=\"red\", lw=3)\n",
    "plt.show()"
   ]
  },
  {
   "cell_type": "markdown",
   "metadata": {},
   "source": [
    "## Ćwiczenie: zaimplementuj algorytm Q-Learning z aproksymacją dla środowiska `CartPole`"
   ]
  },
  {
   "cell_type": "code",
   "execution_count": null,
   "metadata": {},
   "outputs": [],
   "source": []
  }
 ],
 "metadata": {
  "kernelspec": {
   "display_name": "base",
   "language": "python",
   "name": "python3"
  },
  "language_info": {
   "codemirror_mode": {
    "name": "ipython",
    "version": 3
   },
   "file_extension": ".py",
   "mimetype": "text/x-python",
   "name": "python",
   "nbconvert_exporter": "python",
   "pygments_lexer": "ipython3",
   "version": "3.9.13"
  },
  "vscode": {
   "interpreter": {
    "hash": "9cf6ace87ce140ee73c3212e83cfef8944681e1010745419fbed842180d29b9c"
   }
  }
 },
 "nbformat": 4,
 "nbformat_minor": 4
}
